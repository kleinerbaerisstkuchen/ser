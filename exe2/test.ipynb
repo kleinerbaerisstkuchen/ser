{
 "cells": [
  {
   "cell_type": "code",
   "execution_count": 11,
   "metadata": {},
   "outputs": [],
   "source": [
    "\n",
    "import scipy as sp\n",
    "import numpy as np\n",
    "import matplotlib.pyplot as plt\n",
    "import pandas as pd\n",
    "from scipy.io import loadmat\n",
    "import numpy as np\n",
    "from numpy.linalg import multi_dot, inv\n",
    "import matplotlib.pyplot as plt\n",
    "from scipy.sparse import diags\n",
    "\n",
    "\n",
    "from scipy.io import loadmat\n",
    "import numpy as np\n",
    "\n",
    "import matplotlib.pyplot as plt\n",
    "from scipy.sparse import csr_matrix, tril, vstack, diags, hstack\n",
    "from scipy.sparse.linalg import inv"
   ]
  },
  {
   "cell_type": "code",
   "execution_count": 12,
   "metadata": {},
   "outputs": [],
   "source": [
    "delta = 3000\n",
    "T = 0.1\n",
    "mat = loadmat(\"dataset1.mat\")\n",
    "num_states = len(mat[\"r\"])\n",
    "num_samples = num_states//delta\n",
    "t = np.array(mat[\"t\"][delta::delta])\n",
    "# H <- [A_inv, C]T\n",
    "A_inv = tril(np.ones((num_samples, num_samples))).tocsr()\n",
    "# A_inv = inv(np.tril(np.ones((num_samples, num_samples))))\n",
    "C = csr_matrix(np.eye(num_samples))\n",
    "H = vstack([A_inv, C])\n",
    "H_T = H.T\n",
    "check_H = H.toarray()\n",
    "check_H_T = H_T.toarray()\n",
    "# H = np.concatenate((A_inv,C),axis = 0)\n",
    "# H_t = csr_matrix(np.transpose(H))\n",
    "# H_t = np.transpose(H)\n",
    "\n",
    "# z <- [v, y]T\n",
    "r = np.array(mat[\"r\"][delta::delta])\n",
    "l = np.array(mat[\"l\"])\n",
    "y = l-r\n",
    "u = mat[\"v\"]\n",
    "v = np.zeros((num_samples,1))\n",
    "for i in range(delta, num_states, delta):\n",
    "    v[int(i/delta-1)] = T*np.sum(u[i-delta:i])\n",
    "z = np.vstack((v,y))\n",
    "\n",
    "# W <-[[Q,0],[0, R]]\n",
    "r_var = mat[\"r_var\"][0,0]\n",
    "R_inv = diags([1/r_var] * num_samples, format='csr')\n",
    "# R_inv = inv(np.diag([r_var]*num_samples))\n",
    "v_var = mat[\"v_var\"][0,0]\n",
    "Q_inv = diags([1/v_var] * num_samples, format='csr')\n",
    "# Q_inv = inv(np.diag([v_var]*num_samples))\n",
    "zero_matrix = csr_matrix((num_samples, num_samples))\n",
    "W_inv = vstack([hstack([Q_inv, zero_matrix]), hstack([zero_matrix, R_inv])])\n",
    "\n",
    "\n",
    "\n",
    "# W_inv = csr_matrix(np.block([[Q_inv, np.zeros((num_samples, num_samples))],\n",
    "#                       [np.zeros((num_samples, num_samples)), R_inv]]))\n",
    "# W_inv = np.block([[Q_inv, np.zeros((num_samples, num_samples))],\n",
    "#                     [np.zeros((num_samples, num_samples)), R_inv]])\n",
    "# sigma\n",
    "P_hat_inv = H_T.dot(W_inv.dot(H))\n",
    "\n",
    "P_hat = inv(P_hat_inv)\n",
    "sigma = np.sqrt(P_hat.diagonal())"
   ]
  },
  {
   "cell_type": "code",
   "execution_count": 13,
   "metadata": {},
   "outputs": [
    {
     "data": {
      "text/plain": [
       "array([[1., 0., 0., 0.],\n",
       "       [1., 1., 0., 0.],\n",
       "       [1., 1., 1., 0.],\n",
       "       [1., 1., 1., 1.]])"
      ]
     },
     "execution_count": 13,
     "metadata": {},
     "output_type": "execute_result"
    }
   ],
   "source": [
    "A_inv.toarray()"
   ]
  }
 ],
 "metadata": {
  "kernelspec": {
   "display_name": "ser",
   "language": "python",
   "name": "python3"
  },
  "language_info": {
   "codemirror_mode": {
    "name": "ipython",
    "version": 3
   },
   "file_extension": ".py",
   "mimetype": "text/x-python",
   "name": "python",
   "nbconvert_exporter": "python",
   "pygments_lexer": "ipython3",
   "version": "3.8.10"
  }
 },
 "nbformat": 4,
 "nbformat_minor": 2
}
