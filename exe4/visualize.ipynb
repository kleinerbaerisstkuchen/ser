{
 "cells": [
  {
   "cell_type": "code",
   "execution_count": 1,
   "metadata": {},
   "outputs": [
    {
     "data": {
      "text/plain": [
       "dict_keys(['__header__', '__version__', '__globals__', 'theta_vk_i', 'r_i_vk_i', 't', 'w_vk_vk_i', 'v_vk_vk_i', 'rho_i_pj_i', 'y_k_j', 'C_c_v', 'rho_v_c_v', 'w_var', 'v_var', 'y_var', 'fu', 'fv', 'cu', 'cv', 'b'])"
      ]
     },
     "execution_count": 1,
     "metadata": {},
     "output_type": "execute_result"
    }
   ],
   "source": [
    "from scipy.io import loadmat\n",
    "data = loadmat('/home/hnaxiong/ser/exe4/dataset3.mat')\n",
    "keys = data.keys()\n",
    "keys"
   ]
  },
  {
   "cell_type": "code",
   "execution_count": 20,
   "metadata": {},
   "outputs": [],
   "source": [
    "fu = data['fu'].item()\n",
    "fv = data['fv'].item()\n",
    "cu = data['cu'].item()\n",
    "cv = data['cv'].item()\n",
    "b = data['b'].item()\n",
    "Pj_i_true = data['rho_i_pj_i']\n"
   ]
  },
  {
   "cell_type": "code",
   "execution_count": 37,
   "metadata": {},
   "outputs": [],
   "source": [
    "import numpy as np\n",
    "#define stereo camera projection matrix\n",
    "M = np.array([[fu, 0, cu, 0],\n",
    "     [0, fv, cv, 0],\n",
    "     [fu, 0, cu, -fu*b],\n",
    "     [0, fv, cu, 0]])\n",
    "# convert 3D point into 2d stereo point pair\n",
    "def Cam_Projection(pt):\n",
    "    x = pt[0]\n",
    "    y = pt[1]\n",
    "    z = pt[2]\n",
    "    pt = np.array([[x],[y],[z],[1]])\n",
    "    pt_2d = np.dot(M / z , pt)\n",
    "    return pt_2d\n",
    "\n",
    "# convert ground truth point into stereo point pairs\n",
    "Pj_in_cam = []\n",
    "for i in range(20):\n",
    "    pt = [Pj_i_true[0,i],Pj_i_true[1,i],Pj_i_true[2,i]]\n",
    "    pt_2d = Cam_Projection(pt)\n",
    "    Pj_in_cam.append(pt_2d)\n"
   ]
  },
  {
   "cell_type": "code",
   "execution_count": null,
   "metadata": {},
   "outputs": [],
   "source": [
    "import cv2\n",
    "import numpy as np\n",
    "\n",
    "# 生成示例数据\n",
    "num_3d_points = 20\n",
    "num_frames = 100\n",
    "points_3d = np.random.rand(num_3d_points, 3)  # 20个静止的3D点\n",
    "points_2d = np.random.rand(num_frames, num_3d_points, 2)  # 100个时刻下的2D点\n",
    "\n",
    "# 设置视频参数\n",
    "frame_width = 800\n",
    "frame_height = 600\n",
    "fps = 30\n",
    "\n",
    "# 创建视频写入器\n",
    "video_writer = cv2.VideoWriter('point_motion.mp4', cv2.VideoWriter_fourcc(*'mp4v'), fps, (frame_width, frame_height))\n",
    "\n",
    "# 遍历每一帧\n",
    "for frame_index in range(num_frames):\n",
    "    frame = np.ones((frame_height, frame_width, 3), np.uint8) * 255  # 创建白色背景\n",
    "    \n",
    "    # 将3D点投影到当前帧的2D坐标\n",
    "    for point_index in range(num_3d_points):\n",
    "        u = int(points_2d[frame_index, point_index, 0] * frame_width)\n",
    "        v = int(points_2d[frame_index, point_index, 1] * frame_height)\n",
    "        cv2.circle(frame, (u, v), 5, (0, 0, 255), -1)  # 在当前帧上绘制红色的2D点\n",
    "        \n",
    "        # 在当前帧上绘制3D点（以黄色十字标记）\n",
    "        x = int(points_3d[point_index, 0] * frame_width)\n",
    "        y = int(points_3d[point_index, 1] * frame_height)\n",
    "        cv2.drawMarker(frame, (x, y), (0, 255, 255), markerType=cv2.MARKER_CROSS, markerSize=10)\n",
    "\n",
    "    # 将当前帧写入视频\n",
    "    video_writer.write(frame)\n",
    "\n",
    "# 释放视频写入器\n",
    "video_writer.release()\n",
    "\n",
    "print(\"视频已保存为 'point_motion.mp4'\")\n"
   ]
  }
 ],
 "metadata": {
  "kernelspec": {
   "display_name": "venv",
   "language": "python",
   "name": "python3"
  },
  "language_info": {
   "codemirror_mode": {
    "name": "ipython",
    "version": 3
   },
   "file_extension": ".py",
   "mimetype": "text/x-python",
   "name": "python",
   "nbconvert_exporter": "python",
   "pygments_lexer": "ipython3",
   "version": "3.8.10"
  },
  "orig_nbformat": 4
 },
 "nbformat": 4,
 "nbformat_minor": 2
}
